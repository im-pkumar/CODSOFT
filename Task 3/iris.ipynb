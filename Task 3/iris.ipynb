{
 "cells": [
  {
   "cell_type": "code",
   "execution_count": 55,
   "metadata": {},
   "outputs": [],
   "source": [
    "import pandas as pd\n",
    "import numpy as np\n",
    "import os\n",
    "\n",
    "import matplotlib.pyplot as plt\n",
    "import seaborn as sb\n",
    "\n",
    "from warnings import filterwarnings\n",
    "filterwarnings('ignore')\n",
    "\n",
    "from sklearn.preprocessing import StandardScaler, LabelEncoder\n",
    "from sklearn.model_selection import train_test_split, GridSearchCV, cross_val_score\n",
    "from sklearn.neighbors import KNeighborsClassifier\n",
    "from sklearn.linear_model import LogisticRegression\n",
    "from sklearn.tree import DecisionTreeClassifier\n",
    "from sklearn.ensemble import RandomForestClassifier, GradientBoostingClassifier, VotingClassifier\n",
    "import xgboost as xgb\n",
    "\n",
    "from sklearn.metrics import accuracy_score, classification_report, confusion_matrix, ConfusionMatrixDisplay"
   ]
  },
  {
   "cell_type": "code",
   "execution_count": 56,
   "metadata": {},
   "outputs": [
    {
     "data": {
      "text/html": [
       "<div>\n",
       "<style scoped>\n",
       "    .dataframe tbody tr th:only-of-type {\n",
       "        vertical-align: middle;\n",
       "    }\n",
       "\n",
       "    .dataframe tbody tr th {\n",
       "        vertical-align: top;\n",
       "    }\n",
       "\n",
       "    .dataframe thead th {\n",
       "        text-align: right;\n",
       "    }\n",
       "</style>\n",
       "<table border=\"1\" class=\"dataframe\">\n",
       "  <thead>\n",
       "    <tr style=\"text-align: right;\">\n",
       "      <th></th>\n",
       "      <th>sepal_length</th>\n",
       "      <th>sepal_width</th>\n",
       "      <th>petal_length</th>\n",
       "      <th>petal_width</th>\n",
       "      <th>species</th>\n",
       "    </tr>\n",
       "  </thead>\n",
       "  <tbody>\n",
       "    <tr>\n",
       "      <th>0</th>\n",
       "      <td>5.1</td>\n",
       "      <td>3.5</td>\n",
       "      <td>1.4</td>\n",
       "      <td>0.2</td>\n",
       "      <td>Iris-setosa</td>\n",
       "    </tr>\n",
       "    <tr>\n",
       "      <th>1</th>\n",
       "      <td>4.9</td>\n",
       "      <td>3.0</td>\n",
       "      <td>1.4</td>\n",
       "      <td>0.2</td>\n",
       "      <td>Iris-setosa</td>\n",
       "    </tr>\n",
       "    <tr>\n",
       "      <th>2</th>\n",
       "      <td>4.7</td>\n",
       "      <td>3.2</td>\n",
       "      <td>1.3</td>\n",
       "      <td>0.2</td>\n",
       "      <td>Iris-setosa</td>\n",
       "    </tr>\n",
       "    <tr>\n",
       "      <th>3</th>\n",
       "      <td>4.6</td>\n",
       "      <td>3.1</td>\n",
       "      <td>1.5</td>\n",
       "      <td>0.2</td>\n",
       "      <td>Iris-setosa</td>\n",
       "    </tr>\n",
       "    <tr>\n",
       "      <th>4</th>\n",
       "      <td>5.0</td>\n",
       "      <td>3.6</td>\n",
       "      <td>1.4</td>\n",
       "      <td>0.2</td>\n",
       "      <td>Iris-setosa</td>\n",
       "    </tr>\n",
       "    <tr>\n",
       "      <th>...</th>\n",
       "      <td>...</td>\n",
       "      <td>...</td>\n",
       "      <td>...</td>\n",
       "      <td>...</td>\n",
       "      <td>...</td>\n",
       "    </tr>\n",
       "    <tr>\n",
       "      <th>145</th>\n",
       "      <td>6.7</td>\n",
       "      <td>3.0</td>\n",
       "      <td>5.2</td>\n",
       "      <td>2.3</td>\n",
       "      <td>Iris-virginica</td>\n",
       "    </tr>\n",
       "    <tr>\n",
       "      <th>146</th>\n",
       "      <td>6.3</td>\n",
       "      <td>2.5</td>\n",
       "      <td>5.0</td>\n",
       "      <td>1.9</td>\n",
       "      <td>Iris-virginica</td>\n",
       "    </tr>\n",
       "    <tr>\n",
       "      <th>147</th>\n",
       "      <td>6.5</td>\n",
       "      <td>3.0</td>\n",
       "      <td>5.2</td>\n",
       "      <td>2.0</td>\n",
       "      <td>Iris-virginica</td>\n",
       "    </tr>\n",
       "    <tr>\n",
       "      <th>148</th>\n",
       "      <td>6.2</td>\n",
       "      <td>3.4</td>\n",
       "      <td>5.4</td>\n",
       "      <td>2.3</td>\n",
       "      <td>Iris-virginica</td>\n",
       "    </tr>\n",
       "    <tr>\n",
       "      <th>149</th>\n",
       "      <td>5.9</td>\n",
       "      <td>3.0</td>\n",
       "      <td>5.1</td>\n",
       "      <td>1.8</td>\n",
       "      <td>Iris-virginica</td>\n",
       "    </tr>\n",
       "  </tbody>\n",
       "</table>\n",
       "<p>150 rows × 5 columns</p>\n",
       "</div>"
      ],
      "text/plain": [
       "     sepal_length  sepal_width  petal_length  petal_width         species\n",
       "0             5.1          3.5           1.4          0.2     Iris-setosa\n",
       "1             4.9          3.0           1.4          0.2     Iris-setosa\n",
       "2             4.7          3.2           1.3          0.2     Iris-setosa\n",
       "3             4.6          3.1           1.5          0.2     Iris-setosa\n",
       "4             5.0          3.6           1.4          0.2     Iris-setosa\n",
       "..            ...          ...           ...          ...             ...\n",
       "145           6.7          3.0           5.2          2.3  Iris-virginica\n",
       "146           6.3          2.5           5.0          1.9  Iris-virginica\n",
       "147           6.5          3.0           5.2          2.0  Iris-virginica\n",
       "148           6.2          3.4           5.4          2.3  Iris-virginica\n",
       "149           5.9          3.0           5.1          1.8  Iris-virginica\n",
       "\n",
       "[150 rows x 5 columns]"
      ]
     },
     "execution_count": 56,
     "metadata": {},
     "output_type": "execute_result"
    }
   ],
   "source": [
    "iris = pd.read_csv(\"IRIS.csv\")\n",
    "iris"
   ]
  },
  {
   "cell_type": "code",
   "execution_count": 57,
   "metadata": {},
   "outputs": [
    {
     "data": {
      "image/png": "[encoded data removed]",
      "text/plain": [
       "<Figure size 640x480 with 1 Axes>"
      ]
     },
     "metadata": {},
     "output_type": "display_data"
    }
   ],
   "source": [
    "plt.title(\"Distribution of Iris-Type\", c = 'darkred')\n",
    "plt.pie(iris.species.value_counts(), autopct=\"%.2f%%\", labels = iris.species.unique())\n",
    "plt.show()"
   ]
  },
  {
   "cell_type": "code",
   "execution_count": 58,
   "metadata": {},
   "outputs": [
    {
     "data": {
      "image/png": "[encoded data removed]",
      "text/plain": [
       "<Figure size 640x480 with 1 Axes>"
      ]
     },
     "metadata": {},
     "output_type": "display_data"
    }
   ],
   "source": [
    "sb.boxplot(iris)\n",
    "plt.show()"
   ]
  },
  {
   "cell_type": "markdown",
   "metadata": {},
   "source": [
    "#### Boxplot show there is no Outliers in the dataset provided. So just scaling will be done."
   ]
  },
  {
   "cell_type": "code",
   "execution_count": 59,
   "metadata": {},
   "outputs": [],
   "source": [
    "X = iris.drop('species', axis = 1)\n",
    "y = iris.species\n",
    "\n",
    "X_train, X_test, y_train, y_test = train_test_split(X, y, random_state = 20)\n",
    "\n",
    "ss = StandardScaler()\n",
    "Xt_train = ss.fit_transform(X_train)\n",
    "Xt_test = ss.transform(X_test)"
   ]
  },
  {
   "cell_type": "markdown",
   "metadata": {},
   "source": [
    "#### **Training of different models to get best fit model for IRIS type classification**"
   ]
  },
  {
   "cell_type": "code",
   "execution_count": 60,
   "metadata": {},
   "outputs": [
    {
     "name": "stdout",
     "output_type": "stream",
     "text": [
      "Cross Validation score:  [1.         0.95652174 0.95454545 1.         0.95454545]\n",
      "Mean Cross Validation Score:  0.9731225296442687\n",
      "Standard Deviation of Cross Val. Score:  0.021957224367321955\n"
     ]
    }
   ],
   "source": [
    "knn_model = KNeighborsClassifier()\n",
    "c_score = cross_val_score(knn_model, Xt_train, y_train, cv = 5, scoring = 'accuracy')\n",
    "\n",
    "print(\"Cross Validation score: \", c_score)\n",
    "print(\"Mean Cross Validation Score: \", c_score.mean())\n",
    "print(\"Standard Deviation of Cross Val. Score: \", np.std(c_score))"
   ]
  },
  {
   "cell_type": "code",
   "execution_count": 61,
   "metadata": {},
   "outputs": [
    {
     "name": "stdout",
     "output_type": "stream",
     "text": [
      "Cross Validation score:  [0.95652174 0.95652174 1.         0.95454545 0.95454545]\n",
      "Mean Cross Validation Score:  0.9644268774703558\n",
      "Standard Deviation of Cross Val. Score:  0.01780850644437755\n"
     ]
    }
   ],
   "source": [
    "lr_model = LogisticRegression()\n",
    "c_score = cross_val_score(lr_model, Xt_train, y_train, cv = 5, scoring = 'accuracy')\n",
    "\n",
    "print(\"Cross Validation score: \", c_score)\n",
    "print(\"Mean Cross Validation Score: \", c_score.mean())\n",
    "print(\"Standard Deviation of Cross Val. Score: \", np.std(c_score))"
   ]
  },
  {
   "cell_type": "code",
   "execution_count": 62,
   "metadata": {},
   "outputs": [
    {
     "name": "stdout",
     "output_type": "stream",
     "text": [
      "Cross Validation score:  [0.95652174 0.95652174 1.         0.95454545 0.90909091]\n",
      "Mean Cross Validation Score:  0.9553359683794467\n",
      "Standard Deviation of Cross Val. Score:  0.028764277310134794\n"
     ]
    }
   ],
   "source": [
    "dtc_model = DecisionTreeClassifier(random_state = 42)\n",
    "c_score = cross_val_score(dtc_model, Xt_train, y_train, cv = 5, scoring = 'accuracy')\n",
    "\n",
    "print(\"Cross Validation score: \", c_score)\n",
    "print(\"Mean Cross Validation Score: \", c_score.mean())\n",
    "print(\"Standard Deviation of Cross Val. Score: \", np.std(c_score))"
   ]
  },
  {
   "cell_type": "code",
   "execution_count": 63,
   "metadata": {},
   "outputs": [
    {
     "name": "stdout",
     "output_type": "stream",
     "text": [
      "Cross Validation score:  [0.95652174 0.95652174 1.         0.95454545 0.95454545]\n",
      "Mean Cross Validation Score:  0.9644268774703558\n",
      "Standard Deviation of Cross Val. Score:  0.01780850644437755\n"
     ]
    }
   ],
   "source": [
    "rfc_model = RandomForestClassifier(random_state = 42)\n",
    "c_score = cross_val_score(rfc_model, Xt_train, y_train, cv = 5, scoring = 'accuracy')\n",
    "\n",
    "print(\"Cross Validation score: \", c_score)\n",
    "print(\"Mean Cross Validation Score: \", c_score.mean())\n",
    "print(\"Standard Deviation of Cross Val. Score: \", np.std(c_score))"
   ]
  },
  {
   "cell_type": "code",
   "execution_count": 64,
   "metadata": {},
   "outputs": [
    {
     "name": "stdout",
     "output_type": "stream",
     "text": [
      "Cross Validation score:  [0.95652174 1.         1.         0.95454545 0.95454545]\n",
      "Mean Cross Validation Score:  0.9731225296442687\n",
      "Standard Deviation of Cross Val. Score:  0.021957224367321962\n"
     ]
    }
   ],
   "source": [
    "gbr_model = GradientBoostingClassifier(random_state = 42)\n",
    "c_score = cross_val_score(gbr_model, Xt_train, y_train, cv = 5, scoring = 'accuracy')\n",
    "\n",
    "print(\"Cross Validation score: \", c_score)\n",
    "print(\"Mean Cross Validation Score: \", c_score.mean())\n",
    "print(\"Standard Deviation of Cross Val. Score: \", np.std(c_score))"
   ]
  },
  {
   "cell_type": "code",
   "execution_count": 65,
   "metadata": {},
   "outputs": [
    {
     "name": "stdout",
     "output_type": "stream",
     "text": [
      "Cross Validation score:  [0.95652174 0.95652174 1.         0.90909091 0.90909091]\n",
      "Mean Cross Validation Score:  0.9462450592885375\n",
      "Standard Deviation of Cross Val. Score:  0.0342393799647553\n"
     ]
    }
   ],
   "source": [
    "enc = LabelEncoder()\n",
    "y_new_train = enc.fit_transform(y_train)\n",
    "y_new_test = enc.transform(y_test)\n",
    "xgb_model = xgb.XGBClassifier(eval_metric = 'logloss', random_state = 42)\n",
    "c_score = cross_val_score(xgb_model, Xt_train, y_new_train, cv = 5, scoring = 'accuracy')\n",
    "\n",
    "print(\"Cross Validation score: \", c_score)\n",
    "print(\"Mean Cross Validation Score: \", c_score.mean())\n",
    "print(\"Standard Deviation of Cross Val. Score: \", np.std(c_score))"
   ]
  },
  {
   "cell_type": "markdown",
   "metadata": {},
   "source": [
    "### Since the Cross validation score of two models are same ie LogisticRegression and RandomForestClassifier, we check for Accuracy score of both for test data"
   ]
  },
  {
   "cell_type": "code",
   "execution_count": 66,
   "metadata": {},
   "outputs": [
    {
     "name": "stdout",
     "output_type": "stream",
     "text": [
      "Logistic Regression Test Accuracy: 0.9210526315789473\n",
      "RandomForest Classifier Test Accuracy: 0.9210526315789473\n"
     ]
    }
   ],
   "source": [
    "lr_model.fit(Xt_train, y_train)\n",
    "rfc_model.fit(Xt_train, y_train)\n",
    "\n",
    "lr_test_acc = accuracy_score(y_test, lr_model.predict(Xt_test))\n",
    "rfc_test_acc = accuracy_score(y_test, rfc_model.predict(Xt_test))\n",
    "\n",
    "print(f\"Logistic Regression Test Accuracy: {lr_test_acc}\")\n",
    "print(f\"RandomForest Classifier Test Accuracy: {rfc_test_acc}\")"
   ]
  },
  {
   "cell_type": "markdown",
   "metadata": {},
   "source": [
    "### To make best use we now use Ensemble classifier: VotingClassifier which uses base estimators to get best result, so will use any one of these"
   ]
  },
  {
   "cell_type": "code",
   "execution_count": 67,
   "metadata": {},
   "outputs": [
    {
     "name": "stdout",
     "output_type": "stream",
     "text": [
      "VotingClassifier Train Accuracy: 0.9732142857142857\n",
      "VotingClassifier Test Accuracy: 0.9210526315789473\n",
      "[[12  0  0]\n",
      " [ 0 14  0]\n",
      " [ 0  3  9]]\n"
     ]
    }
   ],
   "source": [
    "vc_model = VotingClassifier(estimators = [('lr',lr_model)], voting = 'soft')\n",
    "vc_model.fit(Xt_train, y_train)\n",
    "\n",
    "y_train_pred = vc_model.predict(Xt_train)\n",
    "y_test_pred = vc_model.predict(Xt_test)\n",
    "train_acc = accuracy_score(y_train, y_train_pred)\n",
    "test_acc = accuracy_score(y_test, y_test_pred)\n",
    "\n",
    "print(f\"VotingClassifier Train Accuracy: {train_acc}\")\n",
    "print(f\"VotingClassifier Test Accuracy: {test_acc}\")\n",
    "\n",
    "cm_w_lr = confusion_matrix(y_test,y_test_pred)\n",
    "print(cm_w_lr)"
   ]
  },
  {
   "cell_type": "code",
   "execution_count": 68,
   "metadata": {},
   "outputs": [
    {
     "name": "stdout",
     "output_type": "stream",
     "text": [
      "VotingClassifier Train Accuracy: 1.0\n",
      "VotingClassifier Test Accuracy: 0.9210526315789473\n",
      "[[12  0  0]\n",
      " [ 0 14  0]\n",
      " [ 0  3  9]]\n"
     ]
    }
   ],
   "source": [
    "vc_model = VotingClassifier(estimators = [('lr',lr_model), ('rfc',rfc_model)], voting = 'soft')\n",
    "vc_model.fit(Xt_train, y_train)\n",
    "\n",
    "y_train_pred = vc_model.predict(Xt_train)\n",
    "y_test_pred = vc_model.predict(Xt_test)\n",
    "train_acc = accuracy_score(y_train, y_train_pred)\n",
    "test_acc = accuracy_score(y_test, y_test_pred)\n",
    "\n",
    "print(f\"VotingClassifier Train Accuracy: {train_acc}\")\n",
    "print(f\"VotingClassifier Test Accuracy: {test_acc}\")\n",
    "\n",
    "cm_w_lr = confusion_matrix(y_test,y_test_pred)\n",
    "print(cm_w_lr)"
   ]
  },
  {
   "cell_type": "code",
   "execution_count": 69,
   "metadata": {},
   "outputs": [
    {
     "name": "stdout",
     "output_type": "stream",
     "text": [
      "VotingClassifier Train Accuracy: 1.0\n",
      "VotingClassifier Test Accuracy: 0.9210526315789473\n",
      "[[12  0  0]\n",
      " [ 0 14  0]\n",
      " [ 0  3  9]]\n"
     ]
    }
   ],
   "source": [
    "vc_model = VotingClassifier(estimators = [('lr',lr_model), ('dtc',dtc_model)], voting = 'soft')\n",
    "vc_model.fit(Xt_train, y_train)\n",
    "\n",
    "y_train_pred = vc_model.predict(Xt_train)\n",
    "y_test_pred = vc_model.predict(Xt_test)\n",
    "train_acc = accuracy_score(y_train, y_train_pred)\n",
    "test_acc = accuracy_score(y_test, y_test_pred)\n",
    "\n",
    "print(f\"VotingClassifier Train Accuracy: {train_acc}\")\n",
    "print(f\"VotingClassifier Test Accuracy: {test_acc}\")\n",
    "\n",
    "cm_w_lr = confusion_matrix(y_test,y_test_pred)\n",
    "print(cm_w_lr)"
   ]
  },
  {
   "cell_type": "code",
   "execution_count": 70,
   "metadata": {},
   "outputs": [
    {
     "name": "stdout",
     "output_type": "stream",
     "text": [
      "VotingClassifier Train Accuracy: 0.9732142857142857\n",
      "VotingClassifier Test Accuracy: 0.9210526315789473\n",
      "[[12  0  0]\n",
      " [ 0 14  0]\n",
      " [ 0  3  9]]\n"
     ]
    }
   ],
   "source": [
    "lr_model.fit(Xt_train, y_train)\n",
    "y_train_pred = lr_model.predict(Xt_train)\n",
    "y_test_pred = lr_model.predict(Xt_test)\n",
    "train_acc = accuracy_score(y_train, y_train_pred)\n",
    "test_acc = accuracy_score(y_test, y_test_pred)\n",
    "\n",
    "print(f\"VotingClassifier Train Accuracy: {train_acc}\")\n",
    "print(f\"VotingClassifier Test Accuracy: {test_acc}\")\n",
    "\n",
    "cm_w_lr = confusion_matrix(y_test,y_test_pred)\n",
    "print(cm_w_lr)"
   ]
  },
  {
   "cell_type": "markdown",
   "metadata": {},
   "source": [
    "#### If check confusion matrix for LogisticRegression model, we afterwards see that there is not change in any form. \n",
    "#### So we can use any model but since VotingClassifier uses all three base models which makes it Best Model."
   ]
  },
  {
   "cell_type": "code",
   "execution_count": 73,
   "metadata": {},
   "outputs": [
    {
     "name": "stdout",
     "output_type": "stream",
     "text": [
      "Fitting 5 folds for each of 60 candidates, totalling 300 fits\n",
      "{'C': 1, 'max_iter': 100, 'penalty': 'l2', 'solver': 'saga'}\n"
     ]
    }
   ],
   "source": [
    "lr_model = LogisticRegression(random_state = 42)\n",
    "param_grid_lr = {\n",
    "                'C': [0.01, 0.1, 1, 10, 100],\n",
    "                'penalty': ['l1', 'l2'],        \n",
    "                'solver': ['liblinear', 'saga'],\n",
    "                'max_iter': [100, 200, 300]\n",
    "                }\n",
    "gscv = GridSearchCV(lr_model, param_grid = param_grid_lr, cv = 5, verbose = 1, n_jobs = 1)\n",
    "gscv.fit(Xt_train, y_train)\n",
    "\n",
    "print(gscv.best_params_)\n",
    "best_lr_model = gscv.best_estimator_"
   ]
  },
  {
   "cell_type": "code",
   "execution_count": 75,
   "metadata": {},
   "outputs": [
    {
     "name": "stdout",
     "output_type": "stream",
     "text": [
      "Fitting 5 folds for each of 864 candidates, totalling 4320 fits\n",
      "{'criterion': 'gini', 'max_depth': None, 'max_features': 'sqrt', 'min_samples_leaf': 1, 'min_samples_split': 10, 'splitter': 'best'}\n"
     ]
    }
   ],
   "source": [
    "dtc_model = DecisionTreeClassifier(random_state = 42)\n",
    "param_grid_lr = {\n",
    "                'criterion': ['gini', 'entropy'],          # Function to measure the quality of a split\n",
    "                'max_depth': [None, 10, 20, 30, 40, 50],   # Maximum depth of the tree\n",
    "                'min_samples_split': [2, 5, 10],            # Minimum number of samples required to split an internal node\n",
    "                'min_samples_leaf': [1, 2, 5, 10],          # Minimum number of samples required to be at a leaf node\n",
    "                'max_features': [None, 'sqrt', 'log2'],     # Number of features to consider when looking for the best split\n",
    "                'splitter': ['best', 'random']              # Strategy used to choose the split at each node\n",
    "            }\n",
    "gscv = GridSearchCV(dtc_model, param_grid = param_grid_lr, cv = 5, verbose = 1, n_jobs = 1)\n",
    "gscv.fit(Xt_train, y_train)\n",
    "\n",
    "print(gscv.best_params_)\n",
    "best_dtc_model = gscv.best_estimator_"
   ]
  },
  {
   "cell_type": "code",
   "execution_count": 76,
   "metadata": {},
   "outputs": [
    {
     "name": "stdout",
     "output_type": "stream",
     "text": [
      "VotingClassifier Train Accuracy: 0.9821428571428571\n",
      "VotingClassifier Test Accuracy: 0.8947368421052632\n",
      "[[12  0  0]\n",
      " [ 0 14  0]\n",
      " [ 0  4  8]]\n"
     ]
    }
   ],
   "source": [
    "vc_model = VotingClassifier(estimators = [('lr',best_lr_model), ('dtc',best_dtc_model)], voting = 'soft')\n",
    "vc_model.fit(Xt_train, y_train)\n",
    "\n",
    "y_train_pred = vc_model.predict(Xt_train)\n",
    "y_test_pred = vc_model.predict(Xt_test)\n",
    "train_acc = accuracy_score(y_train, y_train_pred)\n",
    "test_acc = accuracy_score(y_test, y_test_pred)\n",
    "\n",
    "print(f\"VotingClassifier Train Accuracy: {train_acc}\")\n",
    "print(f\"VotingClassifier Test Accuracy: {test_acc}\")\n",
    "\n",
    "cm_w_lr = confusion_matrix(y_test,y_test_pred)\n",
    "print(cm_w_lr)"
   ]
  },
  {
   "cell_type": "markdown",
   "metadata": {},
   "source": [
    "### **BEST MODEL FOR PREDICTION**"
   ]
  },
  {
   "cell_type": "code",
   "execution_count": 84,
   "metadata": {},
   "outputs": [
    {
     "name": "stdout",
     "output_type": "stream",
     "text": [
      "VotingClassifier Train Accuracy: 1.0\n",
      "VotingClassifier Test Accuracy: 0.9210526315789473\n",
      "\n",
      "*****************************************************************\n",
      "\n",
      "                 precision    recall  f1-score   support\n",
      "\n",
      "    Iris-setosa       1.00      1.00      1.00        12\n",
      "Iris-versicolor       0.82      1.00      0.90        14\n",
      " Iris-virginica       1.00      0.75      0.86        12\n",
      "\n",
      "       accuracy                           0.92        38\n",
      "      macro avg       0.94      0.92      0.92        38\n",
      "   weighted avg       0.93      0.92      0.92        38\n",
      "\n"
     ]
    },
    {
     "data": {
      "image/png": "[encoded data removed]",
      "text/plain": [
       "<Figure size 640x480 with 2 Axes>"
      ]
     },
     "metadata": {},
     "output_type": "display_data"
    }
   ],
   "source": [
    "vc_model = VotingClassifier(estimators = [('lr',lr_model), ('dtc',dtc_model)], voting = 'soft')\n",
    "vc_model.fit(Xt_train, y_train)\n",
    "\n",
    "y_train_pred = vc_model.predict(Xt_train)\n",
    "y_test_pred = vc_model.predict(Xt_test)\n",
    "train_acc = accuracy_score(y_train, y_train_pred)\n",
    "test_acc = accuracy_score(y_test, y_test_pred)\n",
    "\n",
    "print(f\"VotingClassifier Train Accuracy: {train_acc}\")\n",
    "print(f\"VotingClassifier Test Accuracy: {test_acc}\")\n",
    "\n",
    "print(\"\\n*****************************************************************\\n\")\n",
    "\n",
    "cm = confusion_matrix(y_test,y_test_pred)\n",
    "cm_display = ConfusionMatrixDisplay(cm)\n",
    "cm_display.plot()\n",
    "\n",
    "creport = classification_report(y_test,y_test_pred)\n",
    "print(creport)"
   ]
  },
  {
   "cell_type": "code",
   "execution_count": 97,
   "metadata": {},
   "outputs": [],
   "source": [
    "def prediction(sample):\n",
    "    test = ss.transform(sample)\n",
    "    pred = vc_model.predict(test)\n",
    "    if type(sample) == list:\n",
    "        sample = pd.DataFrame(sample, columns = ['sepal_length','sepal_width','petal_length','petal_width'])\n",
    "    sample['Type Predicted'] = pred\n",
    "    sample.to_csv(\"IRIS Type Prediction.csv\", index = False)\n",
    "    print(\"DONE\")"
   ]
  },
  {
   "cell_type": "code",
   "execution_count": 98,
   "metadata": {},
   "outputs": [
    {
     "name": "stdout",
     "output_type": "stream",
     "text": [
      "DONE\n"
     ]
    }
   ],
   "source": [
    "#sample = iris.drop('species', axis=1).head(10)\n",
    "sample = [[4.2,3.24,1.2,0.2],[6.4,3.4,4.4,1.4],[6.,3.,4.,1.]]\n",
    "prediction(sample)"
   ]
  },
  {
   "cell_type": "code",
   "execution_count": null,
   "metadata": {},
   "outputs": [],
   "source": []
  }
 ],
 "metadata": {
  "kernelspec": {
   "display_name": "Python 3",
   "language": "python",
   "name": "python3"
  },
  "language_info": {
   "codemirror_mode": {
    "name": "ipython",
    "version": 3
   },
   "file_extension": ".py",
   "mimetype": "text/x-python",
   "name": "python",
   "nbconvert_exporter": "python",
   "pygments_lexer": "ipython3",
   "version": "3.11.5"
  }
 },
 "nbformat": 4,
 "nbformat_minor": 2
}
